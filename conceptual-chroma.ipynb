{
 "cells": [
  {
   "cell_type": "code",
   "execution_count": 22,
   "metadata": {},
   "outputs": [],
   "source": [
    "from langchain_community.document_loaders import DirectoryLoader, TextLoader\n",
    "from langchain.text_splitter import RecursiveCharacterTextSplitter\n",
    "from langchain_huggingface import HuggingFaceEmbeddings\n",
    "from langchain_community.vectorstores import Chroma\n",
    "from langchain.prompts.prompt import PromptTemplate\n",
    "from langchain_ollama import ChatOllama\n",
    "from langchain_core.output_parsers import StrOutputParser\n",
    "from langchain_core.prompts import ChatPromptTemplate\n",
    "from langchain_core.runnables import RunnablePassthrough\n",
    "from langchain_core.messages import AIMessage, HumanMessage"
   ]
  },
  {
   "cell_type": "code",
   "execution_count": 3,
   "metadata": {},
   "outputs": [
    {
     "name": "stderr",
     "output_type": "stream",
     "text": [
      "100%|██████████| 5/5 [00:00<00:00, 1666.79it/s]\n"
     ]
    }
   ],
   "source": [
    "class Utf8TextLoader(TextLoader):\n",
    "    def __init__(self, *args, **kwargs):\n",
    "        kwargs['encoding'] = 'utf-8'\n",
    "        super().__init__(*args, **kwargs)\n",
    "\n",
    "loader = DirectoryLoader(\n",
    "    \"./DATA\", glob=\"**/*.txt\", loader_cls=Utf8TextLoader, show_progress=True\n",
    ")\n",
    "docs = loader.load()"
   ]
  },
  {
   "cell_type": "code",
   "execution_count": 5,
   "metadata": {},
   "outputs": [
    {
     "data": {
      "text/plain": [
       "33"
      ]
     },
     "execution_count": 5,
     "metadata": {},
     "output_type": "execute_result"
    }
   ],
   "source": [
    "text_splitter = RecursiveCharacterTextSplitter(\n",
    "    chunk_size=500,\n",
    "    chunk_overlap=50,\n",
    "    length_function=len,\n",
    "    is_separator_regex=False,\n",
    ")\n",
    "chunks = text_splitter.split_documents(docs)\n",
    "len(chunks)"
   ]
  },
  {
   "cell_type": "code",
   "execution_count": 9,
   "metadata": {},
   "outputs": [
    {
     "name": "stderr",
     "output_type": "stream",
     "text": [
      "d:\\Repos\\Energy-IA-Server-Ollama-Mistral\\venv\\Lib\\site-packages\\sentence_transformers\\cross_encoder\\CrossEncoder.py:13: TqdmWarning: IProgress not found. Please update jupyter and ipywidgets. See https://ipywidgets.readthedocs.io/en/stable/user_install.html\n",
      "  from tqdm.autonotebook import tqdm, trange\n",
      "d:\\Repos\\Energy-IA-Server-Ollama-Mistral\\venv\\Lib\\site-packages\\transformers\\tokenization_utils_base.py:1601: FutureWarning: `clean_up_tokenization_spaces` was not set. It will be set to `True` by default. This behavior will be depracted in transformers v4.45, and will be then set to `False` by default. For more details check this issue: https://github.com/huggingface/transformers/issues/31884\n",
      "  warnings.warn(\n"
     ]
    }
   ],
   "source": [
    "embedding_function = HuggingFaceEmbeddings(model_name=\"sentence-transformers/all-mpnet-base-v2\")\n",
    "db = Chroma.from_documents(chunks, embedding_function)\n",
    "retriever = db.as_retriever()"
   ]
  },
  {
   "cell_type": "code",
   "execution_count": 10,
   "metadata": {},
   "outputs": [
    {
     "data": {
      "text/plain": [
       "[Document(metadata={'source': 'DATA\\\\preguntas.txt'}, page_content='¿Cuáles son los costos de incorporación y afiliación al Servicio de Bienestar? Cuota de incorporación, que corresponde a un 2% del sueldo imponible o hasta el tope imponible del mes, se descuenta sólo en el primer mes de ingreso. \\n2. Aporte mensual, que corresponde a un 1,7% del sueldo imponible o hasta el tope imponible del mes.\\u200b\\u200b'),\n",
       " Document(metadata={'source': 'DATA\\\\contacto.txt'}, page_content='\\u200b\\u200b\\u200b\\u200b\\u200b\\u200b\\u200b\\u200b\\u200b\\u200b\\u200b\\u200b\\u200b\\u200b\\u200b\\u200b\\u200b\\u200b¿Cómo incorporarse?\\nDebes poseer la calidad jurídica de planta, contrata o suplencia, y rellenar el formulario de incorporación. Luego lo debes enviar bienestar@minenergia.cl \\n\\nBajos Costos\\nCuota de incorporación: 0.7% del imponible (se paga por única vez al momento de ingresar).\\nCuota de descuento mensual: 1,7% del imponible.\\n\\ncontacto \\nRomina Vallejos Gallardo - Encargada de Bienestar\\nbienestar@minenergia.cl\\n+56 2 23673743 (A) 743'),\n",
       " Document(metadata={'source': 'DATA\\\\preguntas.txt'}, page_content='p:¿Cuál es procedimiento para enviar los gastos médicos al seguro para su rembolso?'),\n",
       " Document(metadata={'source': 'DATA\\\\preguntas.txt'}, page_content='p:¿Hay algún pago adicional por las cargas al inscribirse a Bienestar?\\n\\u200br:\\u200b\\u200bNo, no hay ningún costo o pago adicional por las cargas reconocidas en la institución que tenga el socio.\\u200b\\u200b')]"
      ]
     },
     "execution_count": 10,
     "metadata": {},
     "output_type": "execute_result"
    }
   ],
   "source": [
    "retriever.invoke(\"Cuáles son los costos de incorporación\")"
   ]
  },
  {
   "cell_type": "code",
   "execution_count": 17,
   "metadata": {},
   "outputs": [],
   "source": [
    "rephrase_template = \"\"\"Dada la siguiente conversación y una pregunta de seguimiento, reformule la pregunta de seguimiento para que sea una pregunta independiente, en su idioma original..\n",
    "\n",
    "Historial de chat:\n",
    "{chat_history}\n",
    "Entrada de seguimiento: {question}\n",
    "Pregunta independiente:\"\"\"\n",
    "\n",
    "REPHRASE_TEMPLATE = PromptTemplate.from_template(rephrase_template)\n",
    "rephrase_chain = REPHRASE_TEMPLATE | ChatOllama(model=\"mistral\",temperature=0) | StrOutputParser()\n",
    "\n",
    "template = \"\"\"Como un asistente del departamento de Bienestar del Ministerio de energia, \n",
    "Responda la pregunta lo mas completa posible basándose únicamente en el siguiente contexto.:\n",
    "\n",
    "{context}\n",
    "\n",
    "Pregunta: {question}\n",
    "\"\"\"\n",
    "ANSWER_PROMPT = ChatPromptTemplate.from_template(template)"
   ]
  },
  {
   "cell_type": "code",
   "execution_count": 20,
   "metadata": {},
   "outputs": [],
   "source": [
    "retrieval_chain = (\n",
    "    {\"context\": retriever, \"question\": RunnablePassthrough()}\n",
    "    | ANSWER_PROMPT\n",
    "    | ChatOllama(model=\"mistral\",temperature=0)\n",
    "    | StrOutputParser()\n",
    ")\n",
    "\n",
    "final_chain = rephrase_chain | retrieval_chain"
   ]
  },
  {
   "cell_type": "code",
   "execution_count": 21,
   "metadata": {},
   "outputs": [
    {
     "data": {
      "text/plain": [
       "'1. Primero, es necesario ir al médico o dentista y llevar el formulario del seguro que está disponible en la sección Formularios. El médico deberá llenar los datos solicitados, como por ejemplo: el diagnóstico por la atención y los procedimientos asociados al diagnóstico.\\n\\n2. En situaciones especiales no es necesario que el formulario sea llenado por el médico, como en el caso de una continuación de un tratamiento o una atención de urgencia.\\n\\n3. Detalles sobre los porcentajes de reembolso según la prestación médica realizada no se proporcionan en este contexto.\\n\\n4. Algunas prestaciones como consultas médicas y exámenes, la cobertura aplica automáticamente por I-med (no siempre, hay que fijarse en el bono), por eso se recomienda siempre andar con el formulario, para solicitar el reembolso en caso de que I-med no lo realice en línea.\\n\\n5. No se proporciona información sobre cómo se realizan las transferencias de gastos médicos en este contexto. Es posible que sea necesario contactar al departamento correspondiente del Ministerio de energia o consultar la página web oficial para obtener más detalles.'"
      ]
     },
     "execution_count": 21,
     "metadata": {},
     "output_type": "execute_result"
    }
   ],
   "source": [
    "final_chain.invoke(\n",
    "    {\n",
    "        \"question\": \"como se envian los gastos medicos\",\n",
    "        \"chat_history\": [\n",
    "           \n",
    "        ],\n",
    "    }\n",
    ")"
   ]
  },
  {
   "cell_type": "code",
   "execution_count": 23,
   "metadata": {},
   "outputs": [
    {
     "data": {
      "text/plain": [
       "' Based on the provided context, there is no information about \"Thuna\" being a type of food for dogs. The documents contain information about a complementary insurance package offered by the Ministry of Energy, which includes life, health, catastrophic, and dental insurance for employees and their dependents. The cost, coverage details, and deductibles for each type of insurance are also provided. Additionally, it mentions that employees may access various benefits with external companies such as discounts on dental clinics, hair salons, yoga classes, etc., and participate in activities organized by the Unidad de Bienestar y Calidad de Vida (Unit for Well-being and Quality of Life). However, there is no mention of \"Thuna\" being related to dogs or dog food.'"
      ]
     },
     "execution_count": 23,
     "metadata": {},
     "output_type": "execute_result"
    }
   ],
   "source": [
    "final_chain.invoke(\n",
    "    {\n",
    "        \"question\": \"No, really?\",\n",
    "        \"chat_history\": [\n",
    "            HumanMessage(content=\"What does the dog like to eat?\"),\n",
    "            AIMessage(content=\"Thuna!\"),\n",
    "        ],\n",
    "    }\n",
    ")"
   ]
  }
 ],
 "metadata": {
  "kernelspec": {
   "display_name": "venv",
   "language": "python",
   "name": "python3"
  },
  "language_info": {
   "codemirror_mode": {
    "name": "ipython",
    "version": 3
   },
   "file_extension": ".py",
   "mimetype": "text/x-python",
   "name": "python",
   "nbconvert_exporter": "python",
   "pygments_lexer": "ipython3",
   "version": "3.11.6"
  }
 },
 "nbformat": 4,
 "nbformat_minor": 2
}
